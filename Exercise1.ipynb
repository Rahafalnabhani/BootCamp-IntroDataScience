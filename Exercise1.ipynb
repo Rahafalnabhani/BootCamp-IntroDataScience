{
 "cells": [
  {
   "cell_type": "code",
   "execution_count": 1,
   "id": "d111fe91",
   "metadata": {},
   "outputs": [],
   "source": [
    "import pandas as pd\n",
    "import json"
   ]
  },
  {
   "cell_type": "markdown",
   "id": "d5670836",
   "metadata": {},
   "source": [
    "# Question 1:"
   ]
  },
  {
   "cell_type": "code",
   "execution_count": 2,
   "id": "36e952fb",
   "metadata": {},
   "outputs": [],
   "source": [
    "# Create csv file (Name, Id ,GPA)\n",
    "# Read the csv file \n",
    "# Store the GPA in list ---> Make it alone another Table\n",
    "# GPA = [] For the student\n",
    "# Calculate the average of GPA\n",
    "# Read the information of new-student of it  ----> input fron the user \n",
    "#Insert new GPA in 3rd place in the list [1,2,3,4] --> Number 3 make it new"
   ]
  },
  {
   "cell_type": "code",
   "execution_count": 3,
   "id": "90f7d608",
   "metadata": {},
   "outputs": [
    {
     "data": {
      "text/html": [
       "<div>\n",
       "<style scoped>\n",
       "    .dataframe tbody tr th:only-of-type {\n",
       "        vertical-align: middle;\n",
       "    }\n",
       "\n",
       "    .dataframe tbody tr th {\n",
       "        vertical-align: top;\n",
       "    }\n",
       "\n",
       "    .dataframe thead th {\n",
       "        text-align: right;\n",
       "    }\n",
       "</style>\n",
       "<table border=\"1\" class=\"dataframe\">\n",
       "  <thead>\n",
       "    <tr style=\"text-align: right;\">\n",
       "      <th></th>\n",
       "      <th>Id</th>\n",
       "      <th>Name</th>\n",
       "      <th>GPA</th>\n",
       "    </tr>\n",
       "  </thead>\n",
       "  <tbody>\n",
       "    <tr>\n",
       "      <th>0</th>\n",
       "      <td>123</td>\n",
       "      <td>Ahmed</td>\n",
       "      <td>3.2</td>\n",
       "    </tr>\n",
       "    <tr>\n",
       "      <th>1</th>\n",
       "      <td>456</td>\n",
       "      <td>Ali</td>\n",
       "      <td>4.2</td>\n",
       "    </tr>\n",
       "    <tr>\n",
       "      <th>2</th>\n",
       "      <td>789</td>\n",
       "      <td>Hamed</td>\n",
       "      <td>1.2</td>\n",
       "    </tr>\n",
       "  </tbody>\n",
       "</table>\n",
       "</div>"
      ],
      "text/plain": [
       "    Id   Name  GPA\n",
       "0  123  Ahmed  3.2\n",
       "1  456    Ali  4.2\n",
       "2  789  Hamed  1.2"
      ]
     },
     "execution_count": 3,
     "metadata": {},
     "output_type": "execute_result"
    }
   ],
   "source": [
    "df=pd.read_csv(\"Exercise.csv\")\n",
    "df "
   ]
  },
  {
   "cell_type": "code",
   "execution_count": 4,
   "id": "34c15820",
   "metadata": {},
   "outputs": [
    {
     "data": {
      "text/plain": [
       "0    3.2\n",
       "1    4.2\n",
       "2    1.2\n",
       "Name: GPA, dtype: float64"
      ]
     },
     "execution_count": 4,
     "metadata": {},
     "output_type": "execute_result"
    }
   ],
   "source": [
    "# Store:\n",
    "df['GPA']"
   ]
  },
  {
   "cell_type": "code",
   "execution_count": 5,
   "id": "9a0cc7b8",
   "metadata": {},
   "outputs": [
    {
     "name": "stdout",
     "output_type": "stream",
     "text": [
      "0    3.2\n",
      "1    4.2\n",
      "2    1.2\n",
      "Name: GPA, dtype: float64\n"
     ]
    }
   ],
   "source": [
    "# Make it parmently:\n",
    "New = df['GPA']\n",
    "print(New)\n",
    "#It is dataframe"
   ]
  },
  {
   "cell_type": "code",
   "execution_count": 6,
   "id": "d0c17d41",
   "metadata": {},
   "outputs": [
    {
     "data": {
      "text/plain": [
       "[3.2, 4.2, 1.2]"
      ]
     },
     "execution_count": 6,
     "metadata": {},
     "output_type": "execute_result"
    }
   ],
   "source": [
    "#It is list\n",
    "Newdf=New.tolist()\n",
    "Newdf"
   ]
  },
  {
   "cell_type": "code",
   "execution_count": 7,
   "id": "0c067872",
   "metadata": {},
   "outputs": [
    {
     "data": {
      "text/plain": [
       "8.6"
      ]
     },
     "execution_count": 7,
     "metadata": {},
     "output_type": "execute_result"
    }
   ],
   "source": [
    "# Average:\n",
    "sum(Newdf)"
   ]
  },
  {
   "cell_type": "code",
   "execution_count": 8,
   "id": "ab515f5b",
   "metadata": {},
   "outputs": [
    {
     "data": {
      "text/plain": [
       "3"
      ]
     },
     "execution_count": 8,
     "metadata": {},
     "output_type": "execute_result"
    }
   ],
   "source": [
    "len(Newdf)"
   ]
  },
  {
   "cell_type": "code",
   "execution_count": 9,
   "id": "68b337c7",
   "metadata": {},
   "outputs": [
    {
     "data": {
      "text/plain": [
       "2.8666666666666667"
      ]
     },
     "execution_count": 9,
     "metadata": {},
     "output_type": "execute_result"
    }
   ],
   "source": [
    "# The Average of the GPA:\n",
    "new=sum(Newdf)/len(Newdf)\n",
    "new"
   ]
  },
  {
   "cell_type": "code",
   "execution_count": 10,
   "id": "b81abd94",
   "metadata": {},
   "outputs": [
    {
     "name": "stdout",
     "output_type": "stream",
     "text": [
      "Enter new student ID: 22\n",
      "Enter new student NAME: rahaf\n",
      "Enter new student GPA: 4.7\n"
     ]
    }
   ],
   "source": [
    "#Input for new student:\n",
    "New_ID = int(input(\"Enter new student ID: \"))\n",
    "New_Name = input(\"Enter new student NAME: \")\n",
    "New_GPA = float(input(\"Enter new student GPA: \"))"
   ]
  },
  {
   "cell_type": "code",
   "execution_count": 11,
   "id": "1392a825",
   "metadata": {},
   "outputs": [
    {
     "data": {
      "text/plain": [
       "[3.2, 4.2, 4.7, 1.2]"
      ]
     },
     "execution_count": 11,
     "metadata": {},
     "output_type": "execute_result"
    }
   ],
   "source": [
    "# Insert new data in 3rd place in the list from the New_gpa\n",
    "Newdf.insert(2,New_GPA)\n",
    "Newdf"
   ]
  },
  {
   "cell_type": "code",
   "execution_count": 12,
   "id": "685a36f2",
   "metadata": {},
   "outputs": [
    {
     "name": "stdout",
     "output_type": "stream",
     "text": [
      "[3.2, 4.2, 1.2]\n"
     ]
    }
   ],
   "source": [
    "Newdf\n",
    "index_to_delete = 2 \n",
    "del Newdf[index_to_delete]\n",
    "print(Newdf)"
   ]
  },
  {
   "cell_type": "markdown",
   "id": "6828cef3",
   "metadata": {},
   "source": [
    "# Question 2:"
   ]
  },
  {
   "cell_type": "code",
   "execution_count": 13,
   "id": "4234bed3",
   "metadata": {},
   "outputs": [],
   "source": [
    "# Read JSON file :\n",
    "# Download json file --->json file example  [Country name , Population]\n",
    "# Read it using python \n",
    "# Add item \n",
    "# Input new thing AND inserted in json file \n",
    "# After making Country\n",
    "# Delete one country \n",
    "# Make a website that can add and delete\n",
    "# And if it is not there send message that is empty nothing"
   ]
  },
  {
   "cell_type": "code",
   "execution_count": null,
   "id": "c03f5b4c",
   "metadata": {},
   "outputs": [],
   "source": [
    "#Note:\n",
    "    'r' --> read model\n",
    "    'w'--> write model\n",
    "    'dump'--> used to convert python sturctures into json format"
   ]
  },
  {
   "cell_type": "code",
   "execution_count": 14,
   "id": "d3eccf0c",
   "metadata": {},
   "outputs": [
    {
     "data": {
      "text/plain": [
       "[{'country': 'Australia', 'population': 24982688},\n",
       " {'country': 'Bahrain', 'population': 1569439},\n",
       " {'country': 'China', 'population': 1392730000},\n",
       " {'country': 'Egypt', 'population': 98423595},\n",
       " {'country': 'Qatar', 'population': 2781677},\n",
       " {'country': 'Maldives', 'population': 515696},\n",
       " {'country': 'Maldives', 'population': 515696},\n",
       " {'country': 'Maldives', 'population': 515696},\n",
       " {'country': 'Maldives', 'population': 515696}]"
      ]
     },
     "execution_count": 14,
     "metadata": {},
     "output_type": "execute_result"
    }
   ],
   "source": [
    "# Read json file:\n",
    "\n",
    "with open('json.json', 'r') as Exercise1:\n",
    "    js = json.load(Exercise1)\n",
    "\n",
    "js"
   ]
  },
  {
   "cell_type": "code",
   "execution_count": 15,
   "id": "67e4a604",
   "metadata": {},
   "outputs": [
    {
     "name": "stdout",
     "output_type": "stream",
     "text": [
      "[{'country': 'Australia', 'population': 24982688}, {'country': 'Bahrain', 'population': 1569439}, {'country': 'China', 'population': 1392730000}, {'country': 'Egypt', 'population': 98423595}, {'country': 'Qatar', 'population': 2781677}, {'country': 'Maldives', 'population': 515696}, {'country': 'Maldives', 'population': 515696}, {'country': 'Maldives', 'population': 515696}, {'country': 'Maldives', 'population': 515696}, {'country': 'Maldives', 'population': 515696}]\n"
     ]
    }
   ],
   "source": [
    "# Add new item:\n",
    "New_Country = {\n",
    "        \"country\": \"Maldives\",\n",
    "        \"population\": 515696\n",
    "}\n",
    "    \n",
    "js.append(New_Country)\n",
    "with open('json.json', 'w') as Exercise1:\n",
    "    json.dump(js,Exercise1)\n",
    "\n",
    "print(js)"
   ]
  },
  {
   "cell_type": "code",
   "execution_count": 3,
   "id": "6e90cc9d",
   "metadata": {},
   "outputs": [
    {
     "name": "stdout",
     "output_type": "stream",
     "text": [
      "Enter the name of a new country: Oman\n",
      "What is the number of the population of the country: 8474858\n"
     ]
    }
   ],
   "source": [
    "# Let the user enter what he what:\n",
    "# User enter new country\n",
    "Newcountry = input(\"Enter the name of a new country: \")\n",
    "Newpopulation = input(\"What is the number of the population of the country: \")"
   ]
  },
  {
   "cell_type": "code",
   "execution_count": null,
   "id": "a434b758",
   "metadata": {},
   "outputs": [],
   "source": [
    "# Add user new country\n",
    "New_Country = {\n",
    "    \"country\": Newcountry,\n",
    "    \"population\": Newpopulation\n",
    "}\n",
    "\n",
    "js.append(New_Country)\n",
    "\n",
    "# insert new country to json file\n",
    "with open('Exercise1.json', 'w') as Exercise1:\n",
    "    json.dump(js, Exercise1)\n",
    "\n",
    "print(js)"
   ]
  },
  {
   "cell_type": "code",
   "execution_count": null,
   "id": "7392bb66",
   "metadata": {},
   "outputs": [],
   "source": [
    "Deleted_Country = int(input(\"Enter the country that you what to delete: \"))\n",
    "deleted_item = data[\"js\"].pop(Deleted_Country)\n",
    "print(js)\n",
    "\n",
    "    # Save modified JSON data\n",
    "with open('Exercise1.json', 'w') as Exercise1:\n",
    "        json.dump(js, Exercise1, indent=4)  \n",
    "    \n",
    "if Countryfound:\n",
    "    with open('Exercise1.json', 'w') as Exercise1:\n",
    "        json.dump(js, Exercise1)\n",
    "    print(f\"{Deleted_Country}' deleted from the JSON data.\")\n",
    "else:\n",
    "    print(f\"{Deleted_Country}' not found in the JSON data.\")"
   ]
  },
  {
   "cell_type": "code",
   "execution_count": null,
   "id": "4672b04e",
   "metadata": {},
   "outputs": [],
   "source": []
  }
 ],
 "metadata": {
  "kernelspec": {
   "display_name": "Python 3 (ipykernel)",
   "language": "python",
   "name": "python3"
  },
  "language_info": {
   "codemirror_mode": {
    "name": "ipython",
    "version": 3
   },
   "file_extension": ".py",
   "mimetype": "text/x-python",
   "name": "python",
   "nbconvert_exporter": "python",
   "pygments_lexer": "ipython3",
   "version": "3.11.3"
  }
 },
 "nbformat": 4,
 "nbformat_minor": 5
}
