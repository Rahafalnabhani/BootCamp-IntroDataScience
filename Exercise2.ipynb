{
 "cells": [
  {
   "cell_type": "markdown",
   "id": "0256be04",
   "metadata": {},
   "source": [
    "# Exercise 1:"
   ]
  },
  {
   "cell_type": "code",
   "execution_count": null,
   "id": "ff4468ff",
   "metadata": {},
   "outputs": [],
   "source": [
    "# Problem :\n",
    "# Chef has recently moved into an apartment. It takes 30 minutes for Chef to reach office from the apartment.\n",
    "# Chef left for the office X minutes before Chef was supposed to reach. Determine whether or not Chef will\n",
    "# be able to reach on time."
   ]
  },
  {
   "cell_type": "code",
   "execution_count": null,
   "id": "77702082",
   "metadata": {},
   "outputs": [],
   "source": [
    "# Explanation:\n",
    "# Test case 1: Chef leaves\n",
    "# 30 minutes before he is supposed to reach, so he will reach the office exactly on time since it takes\n",
    "# 30 minutes to commute.\n",
    "# Test case 2: Chef will reach 30 minutes early."
   ]
  },
  {
   "cell_type": "code",
   "execution_count": 5,
   "id": "a9c2a9a9",
   "metadata": {},
   "outputs": [
    {
     "name": "stdout",
     "output_type": "stream",
     "text": [
      "Enter minutes Chef left before reaching:40\n",
      "-10\n",
      "Chef might not reach the office Late.\n"
     ]
    }
   ],
   "source": [
    "Time = 30\n",
    "x = int(input(\"Enter minutes Chef left before reaching:\"))\n",
    "D = Time - x\n",
    "print(D)\n",
    "\n",
    "if D == 0:\n",
    "    print(\"Chef will reach the office on time.\")\n",
    "elif D > 0:\n",
    "    print(\"Chef might reach the office Early.\")    \n",
    "else:\n",
    "    print(\"Chef might not reach the office Late.\")"
   ]
  },
  {
   "cell_type": "markdown",
   "id": "b39d3241",
   "metadata": {},
   "source": [
    "# Exercise 2:"
   ]
  },
  {
   "cell_type": "code",
   "execution_count": null,
   "id": "bf279b61",
   "metadata": {},
   "outputs": [],
   "source": [
    "# Problem :\n",
    "# Chef has recently started playing chess, and wants to play as many games as possible.\n",
    "# He calculated that playing one game of chess takes at least 20 minutes of his time.\n",
    "# Chef has N hours of free time. What is the maximum number of complete chess games he can play in that time?"
   ]
  },
  {
   "cell_type": "code",
   "execution_count": 6,
   "id": "67be8d14",
   "metadata": {},
   "outputs": [
    {
     "name": "stdout",
     "output_type": "stream",
     "text": [
      "Enter the number of hours: 4\n",
      "Chef can play a maximum of 12  \n"
     ]
    }
   ],
   "source": [
    "hours = int(input(\"Enter the number of hours: \"))\n",
    "Time = 20\n",
    "minutes = hours * 60\n",
    "max_game = minutes // 20\n",
    "print(f\"Chef can play a maximum of {max_game}  \")"
   ]
  },
  {
   "cell_type": "markdown",
   "id": "84982766",
   "metadata": {},
   "source": [
    "# Exercise 3:"
   ]
  },
  {
   "cell_type": "code",
   "execution_count": null,
   "id": "7913ad70",
   "metadata": {},
   "outputs": [],
   "source": [
    "# Problem :\n",
    "# Chef wants to give a burger party to all his N friends i.e. he wants to buy one burger for each of his friends.\n",
    "# The cost of each burger is X rupees while Chef has a total of K rupees.\n",
    "# Determine whether he has enough money to buy a burger for each of his friends or not"
   ]
  },
  {
   "cell_type": "code",
   "execution_count": 7,
   "id": "de1e9c73",
   "metadata": {},
   "outputs": [
    {
     "name": "stdout",
     "output_type": "stream",
     "text": [
      "Enter the number of friends: 4\n",
      "Enter the cost of each burger: 12\n",
      "Enter the total amount of money Chef has: 34\n",
      "Chef doesn't have enough money to buy a burger for each friend.\n"
     ]
    }
   ],
   "source": [
    "F = int(input(\"Enter the number of friends: \"))\n",
    "C = int(input(\"Enter the cost of each burger: \"))\n",
    "M = int(input(\"Enter the total amount of money Chef has: \"))\n",
    "\n",
    "total_cost = F * C\n",
    "if total_cost <= M:\n",
    "     print(\"Chef has enough money to buy a burger for each friend.\")\n",
    "else:\n",
    "    print(\"Chef doesn't have enough money to buy a burger for each friend.\")"
   ]
  },
  {
   "cell_type": "code",
   "execution_count": null,
   "id": "e201a09f",
   "metadata": {},
   "outputs": [],
   "source": []
  }
 ],
 "metadata": {
  "kernelspec": {
   "display_name": "Python 3 (ipykernel)",
   "language": "python",
   "name": "python3"
  },
  "language_info": {
   "codemirror_mode": {
    "name": "ipython",
    "version": 3
   },
   "file_extension": ".py",
   "mimetype": "text/x-python",
   "name": "python",
   "nbconvert_exporter": "python",
   "pygments_lexer": "ipython3",
   "version": "3.11.3"
  }
 },
 "nbformat": 4,
 "nbformat_minor": 5
}
