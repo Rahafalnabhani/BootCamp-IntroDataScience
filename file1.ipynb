{
 "cells": [
  {
   "cell_type": "code",
   "execution_count": 64,
   "id": "027e28b9",
   "metadata": {},
   "outputs": [],
   "source": [
    "import numpy as np\n",
    "import pandas as pd\n",
    "import matplotlib.pyplot as plt\n",
    "import seaborn as sns"
   ]
  },
  {
   "cell_type": "code",
   "execution_count": 41,
   "id": "98ce80c3",
   "metadata": {},
   "outputs": [],
   "source": [
    "# Note:\n",
    "# mean --> be affected be extream"
   ]
  },
  {
   "cell_type": "code",
   "execution_count": 42,
   "id": "313b8e69",
   "metadata": {},
   "outputs": [],
   "source": [
    "# Make a List l = []\n",
    "# Find the z-score\n",
    "# Find the mean and std and "
   ]
  },
  {
   "cell_type": "code",
   "execution_count": 43,
   "id": "15ba50da",
   "metadata": {},
   "outputs": [
    {
     "data": {
      "text/plain": [
       "[7, 8, 6, 100, 7, 9]"
      ]
     },
     "execution_count": 43,
     "metadata": {},
     "output_type": "execute_result"
    }
   ],
   "source": [
    "L = [7,8,6,100,7,9]\n",
    "L"
   ]
  },
  {
   "cell_type": "code",
   "execution_count": 44,
   "id": "8b5872bb",
   "metadata": {},
   "outputs": [
    {
     "data": {
      "text/plain": [
       "22.833333333333332"
      ]
     },
     "execution_count": 44,
     "metadata": {},
     "output_type": "execute_result"
    }
   ],
   "source": [
    "# The average as mean \n",
    "mean = np.mean(L)\n",
    "mean"
   ]
  },
  {
   "cell_type": "code",
   "execution_count": 45,
   "id": "f716605b",
   "metadata": {},
   "outputs": [
    {
     "data": {
      "text/plain": [
       "34.52253692235777"
      ]
     },
     "execution_count": 45,
     "metadata": {},
     "output_type": "execute_result"
    }
   ],
   "source": [
    "# If the std is small that's main they are near to each another\n",
    "# But if big they are to near to each another\n",
    "std = np.std(L)\n",
    "std"
   ]
  },
  {
   "cell_type": "code",
   "execution_count": 46,
   "id": "7a742fad",
   "metadata": {
    "scrolled": true
   },
   "outputs": [],
   "source": [
    "# To find the z-score:\n",
    "z_score = (x-mean)/std"
   ]
  },
  {
   "cell_type": "code",
   "execution_count": 47,
   "id": "ae5a5dae",
   "metadata": {},
   "outputs": [
    {
     "name": "stdout",
     "output_type": "stream",
     "text": [
      "-0.4586375957521018\n",
      "-0.4296710107572322\n",
      "-0.48760418074697137\n",
      "2.23525480877077\n",
      "-0.4586375957521018\n",
      "-0.4007044257623626\n"
     ]
    }
   ],
   "source": [
    "# To find the z-score by using the x of each number in the list\n",
    "# For for i in L1 for each one \n",
    "for i in L:\n",
    "    z_score=(i-mean)/std\n",
    "    print(z_score)"
   ]
  },
  {
   "cell_type": "code",
   "execution_count": 48,
   "id": "53afcfbe",
   "metadata": {},
   "outputs": [
    {
     "name": "stdout",
     "output_type": "stream",
     "text": [
      "Original List: [7, 8, 6, 100, 7, 9]\n",
      "Converted Set: {100, 6, 7, 8, 9}\n"
     ]
    }
   ],
   "source": [
    "# How to convert List into Set\n",
    "\n",
    "L = [7,8,6,100,7,9]\n",
    "Set = set(L)\n",
    "\n",
    "print(\"Original List:\", L)\n",
    "print(\"Converted Set:\", Set)"
   ]
  },
  {
   "cell_type": "code",
   "execution_count": 49,
   "id": "cbbac9d3",
   "metadata": {},
   "outputs": [
    {
     "data": {
      "text/plain": [
       "{6, 7, 8, 9, 100}"
      ]
     },
     "execution_count": 49,
     "metadata": {},
     "output_type": "execute_result"
    }
   ],
   "source": [
    "# Bering back the set\n",
    "\n",
    "Set"
   ]
  },
  {
   "cell_type": "code",
   "execution_count": 50,
   "id": "dc94a536",
   "metadata": {},
   "outputs": [
    {
     "data": {
      "text/plain": [
       "[100, 6, 7, 8, 9]"
      ]
     },
     "execution_count": 50,
     "metadata": {},
     "output_type": "execute_result"
    }
   ],
   "source": [
    " list(Set)"
   ]
  },
  {
   "cell_type": "code",
   "execution_count": 51,
   "id": "c275d886",
   "metadata": {},
   "outputs": [
    {
     "data": {
      "text/plain": [
       "[100, 6, 7, 8, 9]"
      ]
     },
     "execution_count": 51,
     "metadata": {},
     "output_type": "execute_result"
    }
   ],
   "source": [
    "List= list(Set)\n",
    "List"
   ]
  },
  {
   "cell_type": "code",
   "execution_count": 52,
   "id": "b47b02b5",
   "metadata": {},
   "outputs": [],
   "source": [
    "# Normalizatin ---> y = (x – min) / (max – min)\n",
    "# Standardization ----> y = (x – mean) / standard_deviation"
   ]
  },
  {
   "cell_type": "code",
   "execution_count": 53,
   "id": "da022739",
   "metadata": {},
   "outputs": [
    {
     "name": "stdout",
     "output_type": "stream",
     "text": [
      "94\n",
      "3\n"
     ]
    }
   ],
   "source": [
    "LL = [85,94,26,46,47,3,5,50,43]\n",
    "min = np.min(LL)\n",
    "max = np.max(LL)\n",
    "print(max)\n",
    "print(min)"
   ]
  },
  {
   "cell_type": "code",
   "execution_count": 54,
   "id": "5463a955",
   "metadata": {},
   "outputs": [
    {
     "name": "stdout",
     "output_type": "stream",
     "text": [
      "0.9010989010989011\n",
      "1.0\n",
      "0.25274725274725274\n",
      "0.4725274725274725\n",
      "0.4835164835164835\n",
      "0.0\n",
      "0.02197802197802198\n",
      "0.5164835164835165\n",
      "0.43956043956043955\n"
     ]
    }
   ],
   "source": [
    "for x in LL:\n",
    "    n=(x-min)/(max-min)\n",
    "    print(n)"
   ]
  },
  {
   "cell_type": "code",
   "execution_count": 55,
   "id": "2f9f18bf",
   "metadata": {},
   "outputs": [
    {
     "name": "stdout",
     "output_type": "stream",
     "text": [
      "94\n",
      "3\n",
      "0.9010989010989011\n",
      "1.0\n",
      "0.25274725274725274\n",
      "0.4725274725274725\n",
      "0.4835164835164835\n",
      "0.0\n",
      "0.02197802197802198\n",
      "0.5164835164835165\n",
      "0.43956043956043955\n"
     ]
    }
   ],
   "source": [
    "# One problem:\n",
    "LL = [85,94,26,46,47,3,5,50,43]\n",
    "min = np.min(LL)\n",
    "max = np.max(LL)\n",
    "print(max)\n",
    "print(min)\n",
    "for x in LL:\n",
    "    n=(x-min)/(max-min)\n",
    "    print(n)"
   ]
  },
  {
   "cell_type": "markdown",
   "id": "62aa4dff",
   "metadata": {},
   "source": [
    "# Visualization:"
   ]
  },
  {
   "cell_type": "code",
   "execution_count": 67,
   "id": "a6d65c14",
   "metadata": {},
   "outputs": [],
   "source": [
    "apple= [0.35,0.6,0.8,0.65,0.8]\n",
    "month=['one','two','three','four','five']\n",
    "orange=[0.4,0.8,0.9,0.7,0.6,0.8]\n",
    "years=range(2000,2010)"
   ]
  },
  {
   "cell_type": "code",
   "execution_count": 68,
   "id": "20931aac",
   "metadata": {},
   "outputs": [
    {
     "data": {
      "text/plain": [
       "[<matplotlib.lines.Line2D at 0x27b15942a10>]"
      ]
     },
     "execution_count": 68,
     "metadata": {},
     "output_type": "execute_result"
    },
    {
     "data": {
      "image/png": "[encoded data removed]",
      "text/plain": [
       "<Figure size 640x480 with 1 Axes>"
      ]
     },
     "metadata": {},
     "output_type": "display_data"
    }
   ],
   "source": [
    "#Matplotlib:\n",
    "plt.plot(apple)"
   ]
  },
  {
   "cell_type": "code",
   "execution_count": null,
   "id": "e4866f28",
   "metadata": {},
   "outputs": [],
   "source": []
  },
  {
   "cell_type": "code",
   "execution_count": null,
   "id": "15dcd8db",
   "metadata": {},
   "outputs": [],
   "source": []
  },
  {
   "cell_type": "code",
   "execution_count": null,
   "id": "0ba05e5f",
   "metadata": {},
   "outputs": [],
   "source": []
  }
 ],
 "metadata": {
  "kernelspec": {
   "display_name": "Python 3 (ipykernel)",
   "language": "python",
   "name": "python3"
  },
  "language_info": {
   "codemirror_mode": {
    "name": "ipython",
    "version": 3
   },
   "file_extension": ".py",
   "mimetype": "text/x-python",
   "name": "python",
   "nbconvert_exporter": "python",
   "pygments_lexer": "ipython3",
   "version": "3.11.3"
  }
 },
 "nbformat": 4,
 "nbformat_minor": 5
}
