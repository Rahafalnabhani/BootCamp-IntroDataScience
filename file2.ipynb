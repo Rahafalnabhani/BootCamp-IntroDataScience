{
 "cells": [
  {
   "cell_type": "markdown",
   "id": "7e105aad",
   "metadata": {},
   "source": [
    "# Question:"
   ]
  },
  {
   "cell_type": "code",
   "execution_count": null,
   "id": "1e3aed19",
   "metadata": {},
   "outputs": [],
   "source": [
    "# Find the MSE --> Mean square error:\n",
    "# Of different type \n",
    "# Having to list"
   ]
  },
  {
   "cell_type": "code",
   "execution_count": 3,
   "id": "3dd890d7",
   "metadata": {},
   "outputs": [
    {
     "name": "stdout",
     "output_type": "stream",
     "text": [
      "1.3333333333333333\n"
     ]
    }
   ],
   "source": [
    "o = [7,5,2,0,1,8]\n",
    "f = [6,5,0,-1,0,7]\n",
    "sum = 0              # start from the 0 untill the number 6\n",
    "for n in range(6):   #6 ---> because the total number of them is 6 \n",
    "    sum = sum+(f[n]-o[n])**2\n",
    "MSE = sum/6\n",
    "print(MSE)"
   ]
  },
  {
   "cell_type": "markdown",
   "id": "60153b77",
   "metadata": {},
   "source": [
    "# Question 2:"
   ]
  },
  {
   "cell_type": "code",
   "execution_count": 7,
   "id": "67f462f4",
   "metadata": {},
   "outputs": [],
   "source": [
    "import math "
   ]
  },
  {
   "cell_type": "code",
   "execution_count": 10,
   "id": "4a7924eb",
   "metadata": {},
   "outputs": [
    {
     "name": "stdout",
     "output_type": "stream",
     "text": [
      "Enter the number of sigrat: 3\n",
      "Enter the number of weight:50\n",
      "You belong to Good\n"
     ]
    }
   ],
   "source": [
    "# KNN \n",
    "# Having to list number \n",
    "# lit the user enter the s , w as new and till them that you are in which class\n",
    "# Two differnet types of class [good,bad]\n",
    "# We have to know the index of each one to Know each class it is   -->By using the for loop\n",
    "s = [7,7,3,1]\n",
    "w = [70,40,40,40]\n",
    "c = ['Bad','Bad','Good','Good']\n",
    "\n",
    "new_s=int(input(\"Enter the number of sigrat: \"))\n",
    "new_w=int(input(\"Enter the number of weight:\"))\n",
    "\n",
    "D = []\n",
    "\n",
    "for i in range(4):\n",
    "    dis= math.sqrt((new_s-s[i])**2 + (new_w-w[i])**2)    # math.sqrt --> The square root\n",
    "    D.append(dis)\n",
    "m=min(D)                                                # min --->take the min of the distance which is 4\n",
    "ind = D.index(m)                            # in which index \n",
    "print(\"You belong to\",c[ind])                        "
   ]
  },
  {
   "cell_type": "code",
   "execution_count": null,
   "id": "4640a6ba",
   "metadata": {},
   "outputs": [],
   "source": []
  }
 ],
 "metadata": {
  "kernelspec": {
   "display_name": "Python 3 (ipykernel)",
   "language": "python",
   "name": "python3"
  },
  "language_info": {
   "codemirror_mode": {
    "name": "ipython",
    "version": 3
   },
   "file_extension": ".py",
   "mimetype": "text/x-python",
   "name": "python",
   "nbconvert_exporter": "python",
   "pygments_lexer": "ipython3",
   "version": "3.11.3"
  }
 },
 "nbformat": 4,
 "nbformat_minor": 5
}
